{
  "nbformat": 4,
  "nbformat_minor": 0,
  "metadata": {
    "colab": {
      "name": "OpenCV Attendance.ipynb",
      "provenance": [],
      "collapsed_sections": [],
      "authorship_tag": "ABX9TyOnLZeDupk8ztX+rBQdWQBX",
      "include_colab_link": true
    },
    "kernelspec": {
      "name": "python3",
      "display_name": "Python 3"
    },
    "accelerator": "GPU"
  },
  "cells": [
    {
      "cell_type": "markdown",
      "metadata": {
        "id": "view-in-github",
        "colab_type": "text"
      },
      "source": [
        "<a href=\"https://colab.research.google.com/github/soumyananduri/FaceRecAttendance/blob/master/OpenCV_Attendance.ipynb\" target=\"_parent\"><img src=\"https://colab.research.google.com/assets/colab-badge.svg\" alt=\"Open In Colab\"/></a>"
      ]
    },
    {
      "cell_type": "code",
      "metadata": {
        "colab": {
          "base_uri": "https://localhost:8080/"
        },
        "id": "LuJH1EwRLHQX",
        "outputId": "c19f1e05-3166-485a-df3d-d9a63e0f88d6"
      },
      "source": [
        "!pip install face_recognition "
      ],
      "execution_count": 8,
      "outputs": [
        {
          "output_type": "stream",
          "text": [
            "Requirement already satisfied: face_recognition in /usr/local/lib/python3.6/dist-packages (1.3.0)\n",
            "Requirement already satisfied: dlib>=19.7 in /usr/local/lib/python3.6/dist-packages (from face_recognition) (19.18.0)\n",
            "Requirement already satisfied: Pillow in /usr/local/lib/python3.6/dist-packages (from face_recognition) (7.0.0)\n",
            "Requirement already satisfied: face-recognition-models>=0.3.0 in /usr/local/lib/python3.6/dist-packages (from face_recognition) (0.3.0)\n",
            "Requirement already satisfied: Click>=6.0 in /usr/local/lib/python3.6/dist-packages (from face_recognition) (7.1.2)\n",
            "Requirement already satisfied: numpy in /usr/local/lib/python3.6/dist-packages (from face_recognition) (1.19.5)\n"
          ],
          "name": "stdout"
        }
      ]
    },
    {
      "cell_type": "code",
      "metadata": {
        "colab": {
          "base_uri": "https://localhost:8080/"
        },
        "id": "JHu3-t4qLevS",
        "outputId": "69ab8e09-c2fe-4ccb-b802-4e5ca71e3597"
      },
      "source": [
        "!mkdir known\r\n",
        "!wget https://english.cdn.zeenews.com/sites/default/files/2020/10/02/889812-mahatma-gandhi-1.jpg\r\n",
        "!wget https://i.insider.com/55117d7d69bedd9648d07f74?width=1100&format=jpeg&auto=webp\r\n",
        "!wget https://s.yimg.com/ny/api/res/1.2/8yCyfYzqcXD6EJKtanquIA--/YXBwaWQ9aGlnaGxhbmRlcjt3PTk2MDtoPTU0MA--/https://s.yimg.com/os/creatr-uploaded-images/2020-07/ebfe6b20-d1d5-11ea-9b3e-c8448a6c2f4e"
      ],
      "execution_count": 9,
      "outputs": [
        {
          "output_type": "stream",
          "text": [
            "mkdir: cannot create directory ‘known’: File exists\n",
            "--2021-01-18 08:58:39--  https://english.cdn.zeenews.com/sites/default/files/2020/10/02/889812-mahatma-gandhi-1.jpg\n",
            "Resolving english.cdn.zeenews.com (english.cdn.zeenews.com)... 23.46.149.133, 23.46.149.179, 2600:1409:12::6850:5979, ...\n",
            "Connecting to english.cdn.zeenews.com (english.cdn.zeenews.com)|23.46.149.133|:443... connected.\n",
            "HTTP request sent, awaiting response... 200 OK\n",
            "Length: 34872 (34K) [image/jpeg]\n",
            "Saving to: ‘889812-mahatma-gandhi-1.jpg’\n",
            "\n",
            "889812-mahatma-gand 100%[===================>]  34.05K  --.-KB/s    in 0s      \n",
            "\n",
            "2021-01-18 08:58:39 (94.3 MB/s) - ‘889812-mahatma-gandhi-1.jpg’ saved [34872/34872]\n",
            "\n",
            "--2021-01-18 08:58:39--  https://i.insider.com/55117d7d69bedd9648d07f74?width=1100\n",
            "Resolving i.insider.com (i.insider.com)... 151.101.2.217, 151.101.66.217, 151.101.130.217, ...\n",
            "Connecting to i.insider.com (i.insider.com)|151.101.2.217|:443... connected.\n",
            "HTTP request sent, awaiting response... 200 OK\n",
            "Length: 52535 (51K) [image/jpeg]\n",
            "Saving to: ‘55117d7d69bedd9648d07f74?width=1100’\n",
            "\n",
            "55117d7d69bedd9648d 100%[===================>]  51.30K  --.-KB/s    in 0.007s  \n",
            "\n",
            "2021-01-18 08:58:39 (7.46 MB/s) - ‘55117d7d69bedd9648d07f74?width=1100’ saved [52535/52535]\n",
            "\n",
            "--2021-01-18 08:58:39--  https://s.yimg.com/ny/api/res/1.2/8yCyfYzqcXD6EJKtanquIA--/YXBwaWQ9aGlnaGxhbmRlcjt3PTk2MDtoPTU0MA--/https://s.yimg.com/os/creatr-uploaded-images/2020-07/ebfe6b20-d1d5-11ea-9b3e-c8448a6c2f4e\n",
            "Resolving s.yimg.com (s.yimg.com)... 69.147.80.15, 69.147.80.12, 2001:4998:64:800::6001, ...\n",
            "Connecting to s.yimg.com (s.yimg.com)|69.147.80.15|:443... connected.\n",
            "HTTP request sent, awaiting response... 200 OK\n",
            "Length: 65047 (64K) [image/jpeg]\n",
            "Saving to: ‘ebfe6b20-d1d5-11ea-9b3e-c8448a6c2f4e’\n",
            "\n",
            "ebfe6b20-d1d5-11ea- 100%[===================>]  63.52K  --.-KB/s    in 0.01s   \n",
            "\n",
            "2021-01-18 08:58:39 (4.63 MB/s) - ‘ebfe6b20-d1d5-11ea-9b3e-c8448a6c2f4e’ saved [65047/65047]\n",
            "\n"
          ],
          "name": "stdout"
        }
      ]
    },
    {
      "cell_type": "code",
      "metadata": {
        "colab": {
          "base_uri": "https://localhost:8080/"
        },
        "id": "LQTsmRTVMMdt",
        "outputId": "5bc50207-00b5-4531-ab49-6c3a1629119c"
      },
      "source": [
        "!mkdir unknown\r\n",
        "!wget https://miro.medium.com/max/786/1*bRcZXP6T524lrvx5M0Cp7g.jpeg -O unknown/1.jpg\r\n",
        "!wget https://assets.entrepreneur.com/content/3x2/2000/20170518183800-gary-vaynerchuk-hero1.jpeg -O unknown/2.jpg\r\n",
        "!wget https://thumbor.forbes.com/thumbor/fit-in/416x416/filters%3Aformat%28jpg%29/https%3A%2F%2Fspecials-images.forbesimg.com%2Fimageserve%2F5735f40da7ea4353698df276%2F0x0.jpg%3Fbackground%3D000000%26cropX1%3D259%26cropX2%3D607%26cropY1%3D19%26cropY2%3D367-O unknown/3.jpg\r\n",
        "!wget https://upload.wikimedia.org/wikipedia/commons/thumb/6/6e/A._P._J._Abdul_Kalam.jpg/1200px-A._P._J._Abdul_Kalam.jpg -O unknown/4.jpg"
      ],
      "execution_count": 10,
      "outputs": [
        {
          "output_type": "stream",
          "text": [
            "mkdir: cannot create directory ‘unknown’: File exists\n",
            "Warning: wildcards not supported in HTTP.\n",
            "--2021-01-18 08:58:45--  https://miro.medium.com/max/786/1*bRcZXP6T524lrvx5M0Cp7g.jpeg\n",
            "Resolving miro.medium.com (miro.medium.com)... 104.17.31.52, 104.17.225.63, 2606:4700::6811:e13f, ...\n",
            "Connecting to miro.medium.com (miro.medium.com)|104.17.31.52|:443... connected.\n",
            "HTTP request sent, awaiting response... 200 OK\n",
            "Length: 207941 (203K) [image/jpeg]\n",
            "Saving to: ‘unknown/1.jpg’\n",
            "\n",
            "unknown/1.jpg       100%[===================>] 203.07K  --.-KB/s    in 0.02s   \n",
            "\n",
            "2021-01-18 08:58:45 (8.57 MB/s) - ‘unknown/1.jpg’ saved [207941/207941]\n",
            "\n",
            "--2021-01-18 08:58:45--  https://assets.entrepreneur.com/content/3x2/2000/20170518183800-gary-vaynerchuk-hero1.jpeg\n",
            "Resolving assets.entrepreneur.com (assets.entrepreneur.com)... 151.101.0.69, 151.101.64.69, 151.101.128.69, ...\n",
            "Connecting to assets.entrepreneur.com (assets.entrepreneur.com)|151.101.0.69|:443... connected.\n",
            "HTTP request sent, awaiting response... 200 OK\n",
            "Length: 169381 (165K) [image/jpeg]\n",
            "Saving to: ‘unknown/2.jpg’\n",
            "\n",
            "unknown/2.jpg       100%[===================>] 165.41K  --.-KB/s    in 0.02s   \n",
            "\n",
            "2021-01-18 08:58:45 (9.17 MB/s) - ‘unknown/2.jpg’ saved [169381/169381]\n",
            "\n",
            "--2021-01-18 08:58:45--  https://thumbor.forbes.com/thumbor/fit-in/416x416/filters%3Aformat%28jpg%29/https%3A%2F%2Fspecials-images.forbesimg.com%2Fimageserve%2F5735f40da7ea4353698df276%2F0x0.jpg%3Fbackground%3D000000%26cropX1%3D259%26cropX2%3D607%26cropY1%3D19%26cropY2%3D367-O\n",
            "Resolving thumbor.forbes.com (thumbor.forbes.com)... 151.101.2.49, 151.101.66.49, 151.101.130.49, ...\n",
            "Connecting to thumbor.forbes.com (thumbor.forbes.com)|151.101.2.49|:443... connected.\n",
            "HTTP request sent, awaiting response... 200 OK\n",
            "Length: 9928 (9.7K) [image/jpeg]\n",
            "Saving to: ‘https:%2F%2Fspecials-images.forbesimg.com%2Fimageserve%2F5735f40da7ea4353698df276%2F0x0.jpg?background=000000&cropX1=259&cropX2=607&cropY1=19&cropY2=367-O’\n",
            "\n",
            "https:%2F%2Fspecial 100%[===================>]   9.70K  --.-KB/s    in 0s      \n",
            "\n",
            "2021-01-18 08:58:45 (117 MB/s) - ‘https:%2F%2Fspecials-images.forbesimg.com%2Fimageserve%2F5735f40da7ea4353698df276%2F0x0.jpg?background=000000&cropX1=259&cropX2=607&cropY1=19&cropY2=367-O’ saved [9928/9928]\n",
            "\n",
            "--2021-01-18 08:58:45--  http://unknown/3.jpg\n",
            "Resolving unknown (unknown)... failed: Name or service not known.\n",
            "wget: unable to resolve host address ‘unknown’\n",
            "FINISHED --2021-01-18 08:58:45--\n",
            "Total wall clock time: 0.09s\n",
            "Downloaded: 1 files, 9.7K in 0s (117 MB/s)\n",
            "--2021-01-18 08:58:45--  https://upload.wikimedia.org/wikipedia/commons/thumb/6/6e/A._P._J._Abdul_Kalam.jpg/1200px-A._P._J._Abdul_Kalam.jpg\n",
            "Resolving upload.wikimedia.org (upload.wikimedia.org)... 198.35.26.112, 2620:0:863:ed1a::2:b\n",
            "Connecting to upload.wikimedia.org (upload.wikimedia.org)|198.35.26.112|:443... connected.\n",
            "HTTP request sent, awaiting response... 200 OK\n",
            "Length: 323005 (315K) [image/jpeg]\n",
            "Saving to: ‘unknown/4.jpg’\n",
            "\n",
            "unknown/4.jpg       100%[===================>] 315.43K  --.-KB/s    in 0.09s   \n",
            "\n",
            "2021-01-18 08:58:46 (3.44 MB/s) - ‘unknown/4.jpg’ saved [323005/323005]\n",
            "\n"
          ],
          "name": "stdout"
        }
      ]
    },
    {
      "cell_type": "code",
      "metadata": {
        "colab": {
          "base_uri": "https://localhost:8080/"
        },
        "id": "SOT1OaIKQD0g",
        "outputId": "08d58808-f578-43ea-baa4-ac12a3a1a9bd"
      },
      "source": [
        "import face_recognition\r\n",
        "import cv2\r\n",
        "import os\r\n",
        "from google.colab.patches import cv2_imshow\r\n",
        "\r\n",
        "#To resize the given images for detection purpose\r\n",
        "def read_img(path):\r\n",
        "  img= cv2.imread(path)\r\n",
        "  (h, w)= img.shape[:2]\r\n",
        "  width = 500              #Constant size for images\r\n",
        "  #To find the ratio to which the image has been scaled down to and using that for all images\r\n",
        "  ratio= width/ float(w)\r\n",
        "  height= int(h * ratio)\r\n",
        "  return cv2.resize(img, (width, height))\r\n",
        "\r\n",
        "#Known Images\r\n",
        "known_encodings = []\r\n",
        "known_names= []       #File names\r\n",
        "known_dir='known'\r\n",
        "\r\n",
        "#Iterate through known images \r\n",
        "for file in os.listdir(known_dir):\r\n",
        "  img= read_img(known_dir + '/' +file)\r\n",
        "  img_enc= face_recognition.face_encodings(img)[0]    #Generates encodings for all the images\r\n",
        "  known_encodings.append(img_enc)\r\n",
        "  known_names.append(file.split('.'))\r\n",
        "\r\n",
        "known_encodings  \r\n",
        " \r\n",
        "\r\n"
      ],
      "execution_count": 11,
      "outputs": [
        {
          "output_type": "execute_result",
          "data": {
            "text/plain": [
              "[array([-0.11286389,  0.02479071,  0.02074686,  0.00626263, -0.09920655,\n",
              "        -0.05567148,  0.02474997, -0.09931202,  0.09046548, -0.05059678,\n",
              "         0.13785465, -0.07893848, -0.22636293, -0.09002149,  0.06005131,\n",
              "         0.11964744, -0.04728514, -0.1718079 , -0.12832676, -0.15903133,\n",
              "        -0.03844735, -0.00690386,  0.01837495, -0.02187015, -0.13158868,\n",
              "        -0.32098523, -0.08472545, -0.10258096,  0.09499061, -0.08216754,\n",
              "        -0.004622  ,  0.07451047, -0.22496039, -0.08535164,  0.02117871,\n",
              "         0.08204632,  0.03218092, -0.06865782,  0.27844042, -0.04331742,\n",
              "        -0.1562528 ,  0.02494423,  0.13260402,  0.19143125,  0.14300452,\n",
              "         0.00405675,  0.0583756 ,  0.06089338,  0.05646981, -0.18788391,\n",
              "         0.05568115,  0.10573704,  0.04857416,  0.09474283,  0.0378704 ,\n",
              "        -0.14756435,  0.00560621,  0.06451358, -0.19637862,  0.07506302,\n",
              "         0.06063874, -0.06731027, -0.08269071,  0.03221348,  0.23860995,\n",
              "         0.13610837, -0.03474217, -0.2060793 ,  0.13874236, -0.24047028,\n",
              "        -0.04356053,  0.05392136, -0.10809054, -0.026154  , -0.31725231,\n",
              "         0.04634668,  0.31819353,  0.08454441, -0.1483926 ,  0.05737986,\n",
              "        -0.04417128, -0.05930715,  0.05512819,  0.02154453, -0.05307921,\n",
              "         0.04423013, -0.08951014,  0.03394467,  0.25348133,  0.05566191,\n",
              "        -0.06996594,  0.17493492,  0.03329548,  0.02152428,  0.04303199,\n",
              "         0.07716499, -0.06948433, -0.14173608, -0.06935624, -0.02367593,\n",
              "         0.11699991, -0.06943201,  0.01951331,  0.15655716, -0.18054268,\n",
              "         0.14092337, -0.09756684,  0.00906876, -0.08719073,  0.06712453,\n",
              "        -0.01810138,  0.01735426,  0.11184587, -0.19920012,  0.19628568,\n",
              "         0.17556414, -0.0773119 ,  0.05456381,  0.04634885,  0.02091193,\n",
              "         0.0047259 ,  0.06064425, -0.14037606, -0.15344843, -0.03074997,\n",
              "        -0.00669271,  0.08926383,  0.13255742]),\n",
              " array([-0.1076935 , -0.0070902 ,  0.00476978, -0.04379193, -0.00743152,\n",
              "         0.00558026, -0.00154534, -0.06748179,  0.14761393, -0.13665098,\n",
              "         0.15914692,  0.04283135, -0.24789008, -0.08082007,  0.00767811,\n",
              "         0.04919152, -0.11503971, -0.15997635, -0.09676047, -0.19785246,\n",
              "         0.02230677,  0.06659053,  0.01000598, -0.05878096, -0.24333   ,\n",
              "        -0.20683771, -0.07502727, -0.152817  ,  0.0552376 , -0.130225  ,\n",
              "         0.06428166,  0.03553299, -0.18225494,  0.00662149,  0.0200149 ,\n",
              "         0.05627091, -0.04142936, -0.13560158,  0.27274713,  0.09935167,\n",
              "        -0.09454816,  0.0335091 , -0.02960303,  0.26821911,  0.18429418,\n",
              "        -0.01681396,  0.0141045 , -0.14701518,  0.22009298, -0.2298438 ,\n",
              "         0.04512364,  0.19656798,  0.03538418,  0.08477408,  0.11300167,\n",
              "        -0.12595558,  0.05839808,  0.12486134, -0.20903225,  0.02195622,\n",
              "        -0.03779653, -0.01515313, -0.01729535, -0.0557107 ,  0.14473237,\n",
              "         0.04847465, -0.07812655, -0.09237458,  0.2487722 , -0.10622089,\n",
              "        -0.08838344,  0.10104526, -0.14733152, -0.16678002, -0.24096584,\n",
              "         0.08631016,  0.34192446,  0.14820628, -0.06526895,  0.1003357 ,\n",
              "        -0.08297805, -0.06609783,  0.02575812,  0.06705513, -0.11980016,\n",
              "        -0.05909564,  0.03671569,  0.08004014,  0.24537   ,  0.03247897,\n",
              "        -0.09702309,  0.13267952, -0.00826309, -0.01486208,  0.04888578,\n",
              "        -0.00212965, -0.12918966, -0.04976242, -0.08453541, -0.07413815,\n",
              "         0.09902636, -0.10563014,  0.03961134,  0.18148887, -0.21294944,\n",
              "         0.15917066, -0.02504769, -0.11739095, -0.03290312, -0.04946768,\n",
              "        -0.04959404,  0.10969158,  0.10626387, -0.29094002,  0.25810939,\n",
              "         0.17093641,  0.05268104,  0.14007926,  0.06730574, -0.00468446,\n",
              "        -0.04133646,  0.01842595, -0.1973903 , -0.13658361,  0.0368142 ,\n",
              "         0.10045215,  0.05888256,  0.01106683]),\n",
              " array([-0.06390736,  0.06706974,  0.08953153, -0.04571629, -0.05604535,\n",
              "        -0.04436325,  0.0583507 , -0.17185071,  0.18821426, -0.1638144 ,\n",
              "         0.1760222 , -0.11046494, -0.22434027,  0.00231205,  0.01480922,\n",
              "         0.16578373, -0.16297567, -0.15868825, -0.02936897,  0.05055264,\n",
              "        -0.04748299, -0.03351009,  0.06427807,  0.09383383, -0.01336967,\n",
              "        -0.32256082, -0.09807994, -0.09468453,  0.04839845,  0.00553021,\n",
              "        -0.02684291,  0.09271339, -0.24735127, -0.02840111, -0.01634549,\n",
              "        -0.01991011, -0.0556715 , -0.06925476,  0.24545754, -0.06394469,\n",
              "        -0.25739157, -0.08589248,  0.04627555,  0.15653394,  0.2092289 ,\n",
              "        -0.02159198, -0.01042217, -0.06656209,  0.03180902, -0.2712529 ,\n",
              "         0.00162139,  0.08130018,  0.08207168,  0.06876566, -0.03232637,\n",
              "        -0.23056816, -0.00293308,  0.0373378 , -0.14036632,  0.01072478,\n",
              "         0.02299091, -0.04144932, -0.00149129,  0.05574689,  0.31559017,\n",
              "         0.13059662, -0.10218718, -0.13463511,  0.18143822, -0.18431   ,\n",
              "         0.03887405,  0.1130219 , -0.11049136, -0.13433163, -0.22098102,\n",
              "        -0.04100696,  0.38381857,  0.0405875 , -0.15671988,  0.01041444,\n",
              "        -0.19187728,  0.02976979,  0.02405915,  0.05170982, -0.0802474 ,\n",
              "        -0.01371895, -0.08006671, -0.04639062,  0.21182439, -0.05553715,\n",
              "        -0.07407688,  0.19790533, -0.0288869 , -0.03995949,  0.05233649,\n",
              "         0.04312881, -0.00184588, -0.05676109, -0.18093324, -0.0637349 ,\n",
              "         0.00377217, -0.06693634, -0.04676495,  0.18610506, -0.28724095,\n",
              "         0.13752306, -0.00767117, -0.03887454,  0.06019875,  0.06959569,\n",
              "        -0.07782207, -0.06874442,  0.128323  , -0.2492626 ,  0.18586016,\n",
              "         0.11793592, -0.04903705,  0.14789718, -0.01092734,  0.12186819,\n",
              "        -0.04954091, -0.01578479, -0.0995527 , -0.07199434,  0.12094012,\n",
              "         0.03657456,  0.07511991,  0.01919999])]"
            ]
          },
          "metadata": {
            "tags": []
          },
          "execution_count": 11
        }
      ]
    },
    {
      "cell_type": "code",
      "metadata": {
        "colab": {
          "base_uri": "https://localhost:8080/",
          "height": 296
        },
        "id": "EnDgRIluTuwm",
        "outputId": "82f98d0a-93de-48a0-a0ed-b0a1e342f61b"
      },
      "source": [
        "#For unknown encodings\r\n",
        "unknown_dir='unknown'\r\n",
        "for file in os.listdir(unknown_dir):\r\n",
        "  print('Processing',file)\r\n",
        "  img= read_img(unknown_dir + '/' + file)\r\n",
        "  img_enc = face_recognition.face_encodings(img)[0]\r\n",
        "\r\n",
        "#Comparing Known and Unknown Images\r\n",
        "results= face_recognition.compare_faces(known_encodings, img_enc)\r\n",
        "#print(face_recognition.face_distance(known_encodings, img_enc))\r\n",
        "\r\n",
        "for i in range(len(results)):\r\n",
        "  if results[i]:\r\n",
        "    name= known_names[i]\r\n",
        "    #To return coordinates\r\n",
        "    [top, right, bottom, left] = face_recognition.face_locations(img)[0]\r\n",
        "    cv2.rectangle(img, (left, top), (right, bottom), (0, 0, 255), 2)\r\n",
        "    cv2.putText(img, name, (left+2, bottom+20), cv2.FONT_HERSHEY_PLAIN, 1, (255, 255, 255), 1)\r\n",
        "    cv2_imshow(img)\r\n",
        "\r\n",
        "\r\n",
        "#print(results)\r\n"
      ],
      "execution_count": 17,
      "outputs": [
        {
          "output_type": "stream",
          "text": [
            "Processing 2.jpg\n",
            "Processing 4.jpg\n",
            "Processing 3.jpg\n",
            "Processing 1.jpg\n"
          ],
          "name": "stdout"
        },
        {
          "output_type": "error",
          "ename": "SystemError",
          "evalue": "ignored",
          "traceback": [
            "\u001b[0;31m---------------------------------------------------------------------------\u001b[0m",
            "\u001b[0;31mSystemError\u001b[0m                               Traceback (most recent call last)",
            "\u001b[0;32m<ipython-input-17-6b8cc78ca680>\u001b[0m in \u001b[0;36m<module>\u001b[0;34m()\u001b[0m\n\u001b[1;32m     16\u001b[0m     \u001b[0;34m[\u001b[0m\u001b[0mtop\u001b[0m\u001b[0;34m,\u001b[0m \u001b[0mright\u001b[0m\u001b[0;34m,\u001b[0m \u001b[0mbottom\u001b[0m\u001b[0;34m,\u001b[0m \u001b[0mleft\u001b[0m\u001b[0;34m]\u001b[0m \u001b[0;34m=\u001b[0m \u001b[0mface_recognition\u001b[0m\u001b[0;34m.\u001b[0m\u001b[0mface_locations\u001b[0m\u001b[0;34m(\u001b[0m\u001b[0mimg\u001b[0m\u001b[0;34m)\u001b[0m\u001b[0;34m[\u001b[0m\u001b[0;36m0\u001b[0m\u001b[0;34m]\u001b[0m\u001b[0;34m\u001b[0m\u001b[0;34m\u001b[0m\u001b[0m\n\u001b[1;32m     17\u001b[0m     \u001b[0mcv2\u001b[0m\u001b[0;34m.\u001b[0m\u001b[0mrectangle\u001b[0m\u001b[0;34m(\u001b[0m\u001b[0mimg\u001b[0m\u001b[0;34m,\u001b[0m \u001b[0;34m(\u001b[0m\u001b[0mleft\u001b[0m\u001b[0;34m,\u001b[0m \u001b[0mtop\u001b[0m\u001b[0;34m)\u001b[0m\u001b[0;34m,\u001b[0m \u001b[0;34m(\u001b[0m\u001b[0mright\u001b[0m\u001b[0;34m,\u001b[0m \u001b[0mbottom\u001b[0m\u001b[0;34m)\u001b[0m\u001b[0;34m,\u001b[0m \u001b[0;34m(\u001b[0m\u001b[0;36m0\u001b[0m\u001b[0;34m,\u001b[0m \u001b[0;36m0\u001b[0m\u001b[0;34m,\u001b[0m \u001b[0;36m255\u001b[0m\u001b[0;34m)\u001b[0m\u001b[0;34m,\u001b[0m \u001b[0;36m2\u001b[0m\u001b[0;34m)\u001b[0m\u001b[0;34m\u001b[0m\u001b[0;34m\u001b[0m\u001b[0m\n\u001b[0;32m---> 18\u001b[0;31m     \u001b[0mcv2\u001b[0m\u001b[0;34m.\u001b[0m\u001b[0mputText\u001b[0m\u001b[0;34m(\u001b[0m\u001b[0mimg\u001b[0m\u001b[0;34m,\u001b[0m \u001b[0mname\u001b[0m\u001b[0;34m,\u001b[0m \u001b[0;34m(\u001b[0m\u001b[0mleft\u001b[0m\u001b[0;34m+\u001b[0m\u001b[0;36m2\u001b[0m\u001b[0;34m,\u001b[0m \u001b[0mbottom\u001b[0m\u001b[0;34m+\u001b[0m\u001b[0;36m20\u001b[0m\u001b[0;34m)\u001b[0m\u001b[0;34m,\u001b[0m \u001b[0mcv2\u001b[0m\u001b[0;34m.\u001b[0m\u001b[0mFONT_HERSHEY_PLAIN\u001b[0m\u001b[0;34m,\u001b[0m \u001b[0;36m1\u001b[0m\u001b[0;34m,\u001b[0m \u001b[0;34m(\u001b[0m\u001b[0;36m255\u001b[0m\u001b[0;34m,\u001b[0m \u001b[0;36m255\u001b[0m\u001b[0;34m,\u001b[0m \u001b[0;36m255\u001b[0m\u001b[0;34m)\u001b[0m\u001b[0;34m,\u001b[0m \u001b[0;36m1\u001b[0m\u001b[0;34m)\u001b[0m\u001b[0;34m\u001b[0m\u001b[0;34m\u001b[0m\u001b[0m\n\u001b[0m\u001b[1;32m     19\u001b[0m     \u001b[0mcv2_imshow\u001b[0m\u001b[0;34m(\u001b[0m\u001b[0mimg\u001b[0m\u001b[0;34m)\u001b[0m\u001b[0;34m\u001b[0m\u001b[0;34m\u001b[0m\u001b[0m\n\u001b[1;32m     20\u001b[0m \u001b[0;34m\u001b[0m\u001b[0m\n",
            "\u001b[0;31mSystemError\u001b[0m: <built-in function putText> returned NULL without setting an error"
          ]
        }
      ]
    },
    {
      "cell_type": "code",
      "metadata": {
        "id": "0u2oOyWAavgo"
      },
      "source": [
        ""
      ],
      "execution_count": 7,
      "outputs": []
    }
  ]
}